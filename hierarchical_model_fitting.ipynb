{
 "cells": [
  {
   "cell_type": "code",
   "execution_count": 1,
   "metadata": {
    "ExecuteTime": {
     "end_time": "2022-06-08T14:55:00.117337Z",
     "start_time": "2022-06-08T14:55:00.107123Z"
    }
   },
   "outputs": [],
   "source": [
    "## hierarchical bayesian model fitting using expectation maximization algorithom\n",
    "## Adopted from Huys et al.,2011 Disentangling the roles of approach,activation and valence in instrumental and pavlovian responding. Plos Computational Biology\n",
    "## Also learn from S.Gershman mfit tool: https://github.com/sjgershm/mfit"
   ]
  },
  {
   "cell_type": "code",
   "execution_count": 1,
   "metadata": {
    "ExecuteTime": {
     "end_time": "2022-06-09T13:54:13.376877Z",
     "start_time": "2022-06-09T13:54:07.841336Z"
    }
   },
   "outputs": [],
   "source": [
    "import numpy as np\n",
    "import pandas as pd\n",
    "import time\n",
    "from scipy.optimize import minimize\n",
    "from scipy.stats import norm\n",
    "from joblib import Parallel, delayed"
   ]
  },
  {
   "cell_type": "code",
   "execution_count": 2,
   "metadata": {
    "ExecuteTime": {
     "end_time": "2022-06-09T13:54:18.492632Z",
     "start_time": "2022-06-09T13:54:18.454774Z"
    }
   },
   "outputs": [],
   "source": [
    "## EM Model-fitting functions\n",
    "def fit_model(obj,data,bound,time):\n",
    "    x0 = []\n",
    "    para_name = []\n",
    "    bounds = []\n",
    "    for x,y in bound.items():\n",
    "        x0.append(np.random.uniform(y[0],y[1],1)) \n",
    "        bounds.append((y[0],y[1]))\n",
    "    result = minimize(fun=obj,x0=x0,args=data,method='L-BFGS-B',bounds=bounds)\n",
    "    return result\n",
    "\n",
    "def group_fit(obj,data,ncores,bound):\n",
    "    fit_num = 30\n",
    "    para_value = []\n",
    "    hessian = []\n",
    "    neg_llf = []\n",
    "    for n in range(len(data)):\n",
    "        ## parallel model-fitting\n",
    "        candidate_result = Parallel(n_jobs=ncores)(delayed(fit_model)(obj,data[n],bound,i) for i in range(fit_num))\n",
    "        candidate_llf = []\n",
    "        for i in range(len(candidate_result)):\n",
    "            candidate_llf.append(candidate_result[i].fun)\n",
    "        idx = np.where(np.array(candidate_llf) == np.min(np.array(candidate_llf)))\n",
    "        single_para = candidate_result[idx[0][0]].x\n",
    "        single_hessian = candidate_result[idx[0][0]].hess_inv.todense()\n",
    "        single_obj_fun = np.min(np.array(candidate_llf))\n",
    "        para_value.append(single_para)\n",
    "        hessian.append(single_hessian)\n",
    "        neg_llf.append(single_obj_fun)\n",
    "    return np.array(para_value),hessian,np.array(neg_llf)\n",
    "        \n",
    "def prior_llf(para,data):\n",
    "    ## MAP estimation\n",
    "    ## posterior probability of parameter is ratio to the multiplication of prior distribution of parameter and likelihood\n",
    "    ## p(\\theta|y) ∝ p(\\theta | y) * p(\\theta)\n",
    "    len_para = len(para)\n",
    "    llf = data['llf']\n",
    "    mu = data['mu']\n",
    "    sigma = data['sigma']\n",
    "    fit_data = list(data.values())[:-3] ## last three elements are likelihood function, mu and sigma of the prior\n",
    "    neg_llf = llf(para,fit_data)\n",
    "    ## calculate posterior probability\n",
    "    for n in range(len_para):\n",
    "        ## Using gaussian distribution to approximate prior distribution\n",
    "        neg_llf = neg_llf - np.log(norm.pdf(x = para[n], loc = mu[n], scale = sigma[n]))\n",
    "    return neg_llf\n",
    "\n",
    "def em_optim(data,llf,ncores,**bound):\n",
    "    ## data: arguments for the likelihood function\n",
    "    ## llf : likelihood function\n",
    "    ## ncores: number of paralleled thread\n",
    "    ## bound: parameter bound  \n",
    "    \n",
    "    ## strcutre of data: [s x 1] list, each list element is a dict which contains the necessary argument for likelihood function\n",
    "    max_iter = 500 ## maximum iteration number\n",
    "    tol = 0.5 ## tolerance for the EM algorithm\n",
    "    pos_prob = []\n",
    "    pos_prob_pre = 1e10 ## previous iteration posterior probability\n",
    "        \n",
    "    ## initialize the parameters of prior distribution\n",
    "    para_num = len(bound.keys())\n",
    "    mu = np.zeros([para_num])\n",
    "    sigma = np.zeros([para_num])\n",
    "    for x,y in enumerate(bound.values()):\n",
    "        mu[x] = (y[1] - y[0])/2\n",
    "        sigma[x] = y[1] - y[0]\n",
    "    for n in range(len(data)):\n",
    "        data[n]['llf'] = llf\n",
    "        data[n]['mu'] = mu\n",
    "        data[n]['sigma'] = sigma\n",
    "    start_time = time.time()\n",
    "    ## EM model fitting\n",
    "    for n in range(max_iter):\n",
    "        \n",
    "        ## expectation step, fit model to individual subject\n",
    "        para_value,hess,neg_llf = group_fit(prior_llf,data,ncores,bound)\n",
    "        ## maximization step, update latent parameters\n",
    "        ## calculate latent parameters\n",
    "        mu = np.mean(para_value,axis = 0)\n",
    "        var = np.mean(np.square(para_value) + np.array([np.diag(x) for x in hess]),axis = 0) - np.square(mu)\n",
    "        ## make sure covariance matrix is a positive define matrix\n",
    "        if np.min(sigma)<0:\n",
    "            raise NameError('Hessian matrix is not positive defined !')\n",
    "            continue\n",
    "        ## update latent parameter\n",
    "        for i in range(len(data)):      \n",
    "            data[i]['mu'] = mu\n",
    "            data[i]['sigma'] = np.sqrt(var)\n",
    "        if np.absolute(np.sum(neg_llf) - pos_prob_pre)<tol:\n",
    "            break\n",
    "        else:\n",
    "            print('Iteration '+ str(n+1)+' is done!' +'\\n' + 'Difference between Target function and posterior probability is {:.2f}'.format(np.sum(neg_llf) - pos_prob_pre))\n",
    "            pos_prob_pre = np.sum(neg_llf)\n",
    "            pos_prob.append(np.sum(neg_llf))\n",
    "    \n",
    "    end_time = time.time()  \n",
    "    print('EM iteration is finished !')\n",
    "    print(\"The whole model fitting took {:.2f} seconds\".format(end_time-start_time))\n",
    "    return para_value,mu,pos_prob[-1]\n",
    "        "
   ]
  },
  {
   "cell_type": "code",
   "execution_count": 3,
   "metadata": {
    "ExecuteTime": {
     "end_time": "2022-06-09T13:54:19.072333Z",
     "start_time": "2022-06-09T13:54:19.041078Z"
    }
   },
   "outputs": [],
   "source": [
    "## template of fitting a simple three parameter reinforcement learning Q-learning Model\n",
    "## Q-learning function, with two candidate decision rule: epsilon softmax and softmax decision rule\n",
    "def pe_cal(outcome,q_value):\n",
    "    return outcome-q_value\n",
    "def q_learning(outcome,alpha,q_value):\n",
    "    return q_value + alpha*pe_cal(outcome,q_value)\n",
    "def softmax(beta,x):\n",
    "    return 1/(1+np.exp(-beta*x))\n",
    "def e_softmax(beta,e,x):\n",
    "    if e>1 or e<0:\n",
    "        raise('ValueError')\n",
    "    return e/2 + (1-e)*softmax(beta,x)\n",
    "def q_learning_sim(alpha,tau,e,outcome,rule):\n",
    "    trial_num = np.max(np.array(outcome.shape))\n",
    "    option_num = np.min(np.array(outcome.shape))\n",
    "    q_table = np.ones([option_num,trial_num+1]) * 0.5\n",
    "    choice = np.zeros([trial_num])\n",
    "    for n in range(trial_num):\n",
    "        if rule == 'softmax':\n",
    "            p = softmax(tau,q_table[1,n]-q_table[0,n])\n",
    "        elif rule == 'e_softmax':\n",
    "            p = e_softmax(tau,e,q_table[1,n]-q_table[0,n])\n",
    "        choice[n] = np.random.binomial(1,p)\n",
    "        ## update\n",
    "        q_table[int(choice[n]),n+1] = q_learning(outcome[int(choice[n]),n],alpha,q_table[int(choice[n]),n])\n",
    "    return choice\n",
    "def q_learning_llf(para,data):\n",
    "    choice,outcome,rule = data\n",
    "    trial_num = np.max(np.array(outcome.shape))\n",
    "    option_num = np.min(np.array(outcome.shape))\n",
    "    q_table = np.ones([option_num,trial_num]) * 0.5\n",
    "    if rule == 'softmax':\n",
    "        alpha,tau = para\n",
    "        for n in range(trial_num):\n",
    "            if n==trial_num-1:\n",
    "                break\n",
    "            q_table[int(choice[n]),n+1] = q_learning(outcome[int(choice[n]),n],alpha,q_table[int(choice[n]),n])\n",
    "    elif rule == 'e_softmax':\n",
    "        alpha,tau,e = para\n",
    "        for n in range(trial_num):\n",
    "            if n==trial_num-1:\n",
    "                break\n",
    "            q_table[int(choice[n]),n+1] = q_learning(outcome[int(choice[n]),n],alpha,q_table[int(choice[n]),n])\n",
    "    llf = softmax(tau,(choice*2 - 1)*(q_table[1,:]-q_table[0,:]))\n",
    "    return -np.sum(np.log(llf))\n",
    "def fit_model_mle(llf,choice,outcome,rule):\n",
    "    fit_list = [choice,outcome,rule]\n",
    "    if rule == 'softmax':\n",
    "        x0 = [np.random.uniform(0,1),np.random.exponential(1)] \n",
    "        bounds = [(0.1,0.9),(0.3,10)] \n",
    "    elif rule =='e_softmax':\n",
    "        x0 = [np.random.uniform(0.1,0.9),np.random.exponential(1),np.random.uniform(0.02,0.15)] \n",
    "        bounds = [(0.1,0.9),(0.3,10),(0.02,0.15)] \n",
    "    result = minimize(fun=llf,x0=x0,args=fit_list,method='L-BFGS-B',bounds=bounds)\n",
    "    return result\n",
    "\n",
    "def group_fit_mle(df,outcome,rule):\n",
    "    sub_df = df.groupby('sub')\n",
    "    sub_num = len(np.unique(df['sub'].to_numpy()))\n",
    "    para_value=[]\n",
    "    fit_num = 200\n",
    "    for n in sub_df:\n",
    "        fit_df  = n[1]\n",
    "        obj_fun = 20000\n",
    "        for i in range(fit_num):\n",
    "            result = fit_model_mle(q_learning_llf,fit_df['choice'].to_numpy(),outcome,rule)\n",
    "            if result.fun<obj_fun:\n",
    "                fit = result.x\n",
    "                obj_fun = result.fun\n",
    "        para_value.append(fit) \n",
    "    return para_value"
   ]
  },
  {
   "cell_type": "code",
   "execution_count": 4,
   "metadata": {
    "ExecuteTime": {
     "end_time": "2022-06-09T13:54:19.727697Z",
     "start_time": "2022-06-09T13:54:19.696466Z"
    }
   },
   "outputs": [],
   "source": [
    "outcome_70 = np.random.binomial(1,0.8,50)\n",
    "outcome_30 = np.random.binomial(1,0.2,50)\n",
    "outcome1 = np.array([outcome_70,outcome_30])\n",
    "outcome2 = np.array([outcome_30,outcome_70])\n",
    "outcome = np.concatenate([outcome1,outcome2],axis=1)"
   ]
  },
  {
   "cell_type": "code",
   "execution_count": 5,
   "metadata": {
    "ExecuteTime": {
     "end_time": "2022-06-09T13:54:20.298321Z",
     "start_time": "2022-06-09T13:54:20.182332Z"
    }
   },
   "outputs": [],
   "source": [
    "sub_num = 50\n",
    "alpha_true = np.random.uniform(0.1,0.9,sub_num)\n",
    "tau_true = np.random.uniform(0.3,10,sub_num)\n",
    "e_true = np.random.uniform(0.02,0.15,sub_num)\n",
    "choice = np.zeros([100*sub_num])\n",
    "for n in range(sub_num):\n",
    "    choice[(n)*100:(n+1)*100] = q_learning_sim(alpha_true[n],tau_true[n],e_true[n],outcome,'e_softmax').astype('int')\n",
    "df = pd.DataFrame({'choice':choice,'sub':np.repeat(np.arange(1,sub_num+1),100)})"
   ]
  },
  {
   "cell_type": "code",
   "execution_count": 6,
   "metadata": {
    "ExecuteTime": {
     "end_time": "2022-06-09T13:54:20.714781Z",
     "start_time": "2022-06-09T13:54:20.699147Z"
    }
   },
   "outputs": [],
   "source": [
    "## define data structure\n",
    "data = []\n",
    "for n in range(sub_num):\n",
    "    sub_dict = {'choice':choice[(n)*100:(n+1)*100],'outcome':outcome,'rule':'e_softmax'}\n",
    "    data.append(sub_dict)"
   ]
  },
  {
   "cell_type": "code",
   "execution_count": 7,
   "metadata": {
    "ExecuteTime": {
     "end_time": "2022-06-09T13:57:54.914142Z",
     "start_time": "2022-06-09T13:54:21.617617Z"
    }
   },
   "outputs": [
    {
     "name": "stdout",
     "output_type": "stream",
     "text": [
      "Iteration 50 is done!\n",
      "Difference between Target function and posterior probability is -9999997164.65\n",
      "Iteration 50 is done!\n",
      "Difference between Target function and posterior probability is 5.48\n",
      "Iteration 50 is done!\n",
      "Difference between Target function and posterior probability is 5.50\n",
      "Iteration 50 is done!\n",
      "Difference between Target function and posterior probability is -29.08\n",
      "Iteration 50 is done!\n",
      "Difference between Target function and posterior probability is 7.05\n",
      "Iteration 50 is done!\n",
      "Difference between Target function and posterior probability is 3.83\n",
      "Iteration 50 is done!\n",
      "Difference between Target function and posterior probability is 1.58\n",
      "Iteration 50 is done!\n",
      "Difference between Target function and posterior probability is 3.58\n",
      "Iteration 50 is done!\n",
      "Difference between Target function and posterior probability is 267.24\n",
      "Iteration 50 is done!\n",
      "Difference between Target function and posterior probability is -213.97\n",
      "Iteration 50 is done!\n",
      "Difference between Target function and posterior probability is 1.17\n",
      "Iteration 50 is done!\n",
      "Difference between Target function and posterior probability is -16.98\n",
      "Iteration 50 is done!\n",
      "Difference between Target function and posterior probability is 3.71\n",
      "Iteration 50 is done!\n",
      "Difference between Target function and posterior probability is 29.03\n",
      "Iteration 50 is done!\n",
      "Difference between Target function and posterior probability is -24.56\n",
      "Iteration 50 is done!\n",
      "Difference between Target function and posterior probability is -0.66\n",
      "EM iteration is finished !\n",
      "The whole model fitting took 213.28 seconds\n"
     ]
    }
   ],
   "source": [
    "indiv_para,group_mu,prob = em_optim(data,q_learning_llf,ncores=10,alpha=[0.1,0.9],tau=[0.3,10],e=[0.02,0.15])"
   ]
  },
  {
   "cell_type": "code",
   "execution_count": 8,
   "metadata": {
    "ExecuteTime": {
     "end_time": "2022-06-09T13:44:20.144344Z",
     "start_time": "2022-06-09T13:39:27.794917Z"
    }
   },
   "outputs": [],
   "source": [
    "## compare hierarchical bayesian estimation with maximal likelihood estimation\n",
    "mle_fit = group_fit_mle(df,outcome,'e_softmax')"
   ]
  },
  {
   "cell_type": "code",
   "execution_count": 9,
   "metadata": {
    "ExecuteTime": {
     "end_time": "2022-06-09T13:44:21.179808Z",
     "start_time": "2022-06-09T13:44:21.164180Z"
    }
   },
   "outputs": [],
   "source": [
    "mle_fit = np.array(mle_fit)"
   ]
  },
  {
   "cell_type": "code",
   "execution_count": 33,
   "metadata": {
    "ExecuteTime": {
     "end_time": "2022-06-09T13:53:27.807544Z",
     "start_time": "2022-06-09T13:53:27.675851Z"
    }
   },
   "outputs": [
    {
     "data": {
      "text/plain": [
       "array([[1.        , 0.78172874],\n",
       "       [0.78172874, 1.        ]])"
      ]
     },
     "execution_count": 33,
     "metadata": {},
     "output_type": "execute_result"
    },
    {
     "data": {
      "image/png": "[encoded data removed]",
      "text/plain": [
       "<Figure size 432x288 with 1 Axes>"
      ]
     },
     "metadata": {
      "needs_background": "light"
     },
     "output_type": "display_data"
    }
   ],
   "source": [
    "import seaborn as sns\n",
    "sns.scatterplot(x = alpha_true,y=indiv_para[:,0])\n",
    "np.corrcoef(alpha_true,indiv_para[:,0])"
   ]
  },
  {
   "cell_type": "code",
   "execution_count": 32,
   "metadata": {
    "ExecuteTime": {
     "end_time": "2022-06-09T13:53:16.451029Z",
     "start_time": "2022-06-09T13:53:16.317476Z"
    }
   },
   "outputs": [
    {
     "data": {
      "text/plain": [
       "array([[1.        , 0.71215525],\n",
       "       [0.71215525, 1.        ]])"
      ]
     },
     "execution_count": 32,
     "metadata": {},
     "output_type": "execute_result"
    },
    {
     "data": {
      "image/png": "[encoded data removed]",
      "text/plain": [
       "<Figure size 432x288 with 1 Axes>"
      ]
     },
     "metadata": {
      "needs_background": "light"
     },
     "output_type": "display_data"
    }
   ],
   "source": [
    "sns.scatterplot(x = alpha_true,y=mle_fit[:,0])\n",
    "np.corrcoef(alpha_true,mle_fit[:,0])"
   ]
  },
  {
   "cell_type": "code",
   "execution_count": null,
   "metadata": {},
   "outputs": [],
   "source": []
  }
 ],
 "metadata": {
  "kernelspec": {
   "display_name": "Python 3",
   "language": "python",
   "name": "python3"
  },
  "language_info": {
   "codemirror_mode": {
    "name": "ipython",
    "version": 3
   },
   "file_extension": ".py",
   "mimetype": "text/x-python",
   "name": "python",
   "nbconvert_exporter": "python",
   "pygments_lexer": "ipython3",
   "version": "3.8.5"
  },
  "varInspector": {
   "cols": {
    "lenName": 16,
    "lenType": 16,
    "lenVar": 40
   },
   "kernels_config": {
    "python": {
     "delete_cmd_postfix": "",
     "delete_cmd_prefix": "del ",
     "library": "var_list.py",
     "varRefreshCmd": "print(var_dic_list())"
    },
    "r": {
     "delete_cmd_postfix": ") ",
     "delete_cmd_prefix": "rm(",
     "library": "var_list.r",
     "varRefreshCmd": "cat(var_dic_list()) "
    }
   },
   "types_to_exclude": [
    "module",
    "function",
    "builtin_function_or_method",
    "instance",
    "_Feature"
   ],
   "window_display": false
  }
 },
 "nbformat": 4,
 "nbformat_minor": 4
}
